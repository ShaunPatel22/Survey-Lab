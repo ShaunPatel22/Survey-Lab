{
 "cells": [
  {
   "cell_type": "code",
   "execution_count": 2,
   "id": "c7d8c3b5",
   "metadata": {},
   "outputs": [],
   "source": [
    "import pandas as pd\n",
    "import matplotlib"
   ]
  },
  {
   "cell_type": "code",
   "execution_count": 3,
   "id": "75160580",
   "metadata": {},
   "outputs": [
    {
     "name": "stdout",
     "output_type": "stream",
     "text": [
      "        State  \\\n",
      "0     Alabama   \n",
      "1      Alaska   \n",
      "2     Arizona   \n",
      "3    Arkansas   \n",
      "4  California   \n",
      "\n",
      "   Number of drivers involved in fatal collisions per billion miles  \\\n",
      "0                                               18.8                  \n",
      "1                                               18.1                  \n",
      "2                                               18.6                  \n",
      "3                                               22.4                  \n",
      "4                                               12.0                  \n",
      "\n",
      "   Percentage Of Drivers Involved In Fatal Collisions Who Were Speeding  \\\n",
      "0                                                 39                      \n",
      "1                                                 41                      \n",
      "2                                                 35                      \n",
      "3                                                 18                      \n",
      "4                                                 35                      \n",
      "\n",
      "   Percentage Of Drivers Involved In Fatal Collisions Who Were Alcohol-Impaired  \\\n",
      "0                                                 30                              \n",
      "1                                                 25                              \n",
      "2                                                 28                              \n",
      "3                                                 26                              \n",
      "4                                                 28                              \n",
      "\n",
      "   Percentage Of Drivers Involved In Fatal Collisions Who Were Not Distracted  \\\n",
      "0                                                 96                            \n",
      "1                                                 90                            \n",
      "2                                                 84                            \n",
      "3                                                 94                            \n",
      "4                                                 91                            \n",
      "\n",
      "   Percentage Of Drivers Involved In Fatal Collisions Who Had Not Been Involved In Any Previous Accidents  \\\n",
      "0                                                 80                                                        \n",
      "1                                                 94                                                        \n",
      "2                                                 96                                                        \n",
      "3                                                 95                                                        \n",
      "4                                                 89                                                        \n",
      "\n",
      "   Car Insurance Premiums ($)  \\\n",
      "0                      784.55   \n",
      "1                     1053.48   \n",
      "2                      899.47   \n",
      "3                      827.34   \n",
      "4                      878.41   \n",
      "\n",
      "   Losses incurred by insurance companies for collisions per insured driver ($)  \n",
      "0                                             145.08                             \n",
      "1                                             133.93                             \n",
      "2                                             110.35                             \n",
      "3                                             142.39                             \n",
      "4                                             165.63                             \n"
     ]
    }
   ],
   "source": [
    "file = 'bad-drivers.csv'\n",
    "df = pd.read_csv('bad-drivers.csv')\n",
    "print(df.head())"
   ]
  },
  {
   "cell_type": "code",
   "execution_count": 4,
   "id": "7a0cbcc9",
   "metadata": {},
   "outputs": [
    {
     "name": "stdout",
     "output_type": "stream",
     "text": [
      "                      Percentage Of Drivers Involved In Fatal Collisions Who Were Speeding\n",
      "State                                                                                     \n",
      "Alabama                                                            39.0                   \n",
      "Alaska                                                             41.0                   \n",
      "Arizona                                                            35.0                   \n",
      "Arkansas                                                           18.0                   \n",
      "California                                                         35.0                   \n",
      "Colorado                                                           37.0                   \n",
      "Connecticut                                                        46.0                   \n",
      "Delaware                                                           38.0                   \n",
      "District of Columbia                                               34.0                   \n",
      "Florida                                                            21.0                   \n",
      "Georgia                                                            19.0                   \n",
      "Hawaii                                                             54.0                   \n",
      "Idaho                                                              36.0                   \n",
      "Illinois                                                           36.0                   \n",
      "Indiana                                                            25.0                   \n",
      "Iowa                                                               17.0                   \n",
      "Kansas                                                             27.0                   \n",
      "Kentucky                                                           19.0                   \n",
      "Louisiana                                                          35.0                   \n",
      "Maine                                                              38.0                   \n",
      "Maryland                                                           34.0                   \n",
      "Massachusetts                                                      23.0                   \n",
      "Michigan                                                           24.0                   \n",
      "Minnesota                                                          23.0                   \n",
      "Mississippi                                                        15.0                   \n",
      "Missouri                                                           43.0                   \n",
      "Montana                                                            39.0                   \n",
      "Nebraska                                                           13.0                   \n",
      "Nevada                                                             37.0                   \n",
      "New Hampshire                                                      35.0                   \n",
      "New Jersey                                                         16.0                   \n",
      "New Mexico                                                         19.0                   \n",
      "New York                                                           32.0                   \n",
      "North Carolina                                                     39.0                   \n",
      "North Dakota                                                       23.0                   \n",
      "Ohio                                                               28.0                   \n",
      "Oklahoma                                                           32.0                   \n",
      "Oregon                                                             33.0                   \n",
      "Pennsylvania                                                       50.0                   \n",
      "Rhode Island                                                       34.0                   \n",
      "South Carolina                                                     38.0                   \n",
      "South Dakota                                                       31.0                   \n",
      "Tennessee                                                          21.0                   \n",
      "Texas                                                              40.0                   \n",
      "Utah                                                               43.0                   \n",
      "Vermont                                                            30.0                   \n",
      "Virginia                                                           19.0                   \n",
      "Washington                                                         42.0                   \n",
      "West Virginia                                                      34.0                   \n",
      "Wisconsin                                                          36.0                   \n",
      "Wyoming                                                            42.0                   \n"
     ]
    }
   ],
   "source": [
    "by_speeding_mean = df.groupby('State')[['Percentage Of Drivers Involved In Fatal Collisions Who Were Speeding']].mean()\n",
    "print(by_speeding_mean)"
   ]
  },
  {
   "cell_type": "code",
   "execution_count": 5,
   "id": "106fa23f",
   "metadata": {},
   "outputs": [],
   "source": [
    "import statistics"
   ]
  },
  {
   "cell_type": "code",
   "execution_count": 7,
   "id": "6e26c87a",
   "metadata": {},
   "outputs": [
    {
     "data": {
      "text/plain": [
       "32.1"
      ]
     },
     "execution_count": 7,
     "metadata": {},
     "output_type": "execute_result"
    }
   ],
   "source": [
    "statistics.mean([39.0, 41.0, 35.0, 18.0, 35.0, 37.0, 46.0, 38.0, 34.0, 21.0, 19.0 , 54.0, 36.0, 36.0, 25.0, 17.0, 27.0, 19.0, 35.0, 38.0, 34.0, 34.0, 23.0, 15.0, 43.0, 39.0, 13.0, 37.0, 35.0, 16.0, 19.0, 32.0, 39.0, 23.0, 28.0, 32.0, 33.0, 50.0, 34.0, 38.0, 31.0, 21.0, 40.0, 43.0, 30.0, 19.0, 42.0, 34.0, 36.0, 42.0])"
   ]
  },
  {
   "cell_type": "code",
   "execution_count": 5,
   "id": "9044fce3",
   "metadata": {},
   "outputs": [
    {
     "name": "stdout",
     "output_type": "stream",
     "text": [
      "                      Percentage Of Drivers Involved In Fatal Collisions Who Were Speeding\n",
      "State                                                                                     \n",
      "Alabama                                                            39.0                   \n",
      "Alaska                                                             41.0                   \n",
      "Arizona                                                            35.0                   \n",
      "Arkansas                                                           18.0                   \n",
      "California                                                         35.0                   \n",
      "Colorado                                                           37.0                   \n",
      "Connecticut                                                        46.0                   \n",
      "Delaware                                                           38.0                   \n",
      "District of Columbia                                               34.0                   \n",
      "Florida                                                            21.0                   \n",
      "Georgia                                                            19.0                   \n",
      "Hawaii                                                             54.0                   \n",
      "Idaho                                                              36.0                   \n",
      "Illinois                                                           36.0                   \n",
      "Indiana                                                            25.0                   \n",
      "Iowa                                                               17.0                   \n",
      "Kansas                                                             27.0                   \n",
      "Kentucky                                                           19.0                   \n",
      "Louisiana                                                          35.0                   \n",
      "Maine                                                              38.0                   \n",
      "Maryland                                                           34.0                   \n",
      "Massachusetts                                                      23.0                   \n",
      "Michigan                                                           24.0                   \n",
      "Minnesota                                                          23.0                   \n",
      "Mississippi                                                        15.0                   \n",
      "Missouri                                                           43.0                   \n",
      "Montana                                                            39.0                   \n",
      "Nebraska                                                           13.0                   \n",
      "Nevada                                                             37.0                   \n",
      "New Hampshire                                                      35.0                   \n",
      "New Jersey                                                         16.0                   \n",
      "New Mexico                                                         19.0                   \n",
      "New York                                                           32.0                   \n",
      "North Carolina                                                     39.0                   \n",
      "North Dakota                                                       23.0                   \n",
      "Ohio                                                               28.0                   \n",
      "Oklahoma                                                           32.0                   \n",
      "Oregon                                                             33.0                   \n",
      "Pennsylvania                                                       50.0                   \n",
      "Rhode Island                                                       34.0                   \n",
      "South Carolina                                                     38.0                   \n",
      "South Dakota                                                       31.0                   \n",
      "Tennessee                                                          21.0                   \n",
      "Texas                                                              40.0                   \n",
      "Utah                                                               43.0                   \n",
      "Vermont                                                            30.0                   \n",
      "Virginia                                                           19.0                   \n",
      "Washington                                                         42.0                   \n",
      "West Virginia                                                      34.0                   \n",
      "Wisconsin                                                          36.0                   \n",
      "Wyoming                                                            42.0                   \n"
     ]
    }
   ],
   "source": [
    "speeding_mean = df.groupby('State')[['Percentage Of Drivers Involved In Fatal Collisions Who Were Speeding']].mean()\n",
    "print(speeding_mean)"
   ]
  },
  {
   "cell_type": "code",
   "execution_count": 7,
   "id": "be5bb6aa",
   "metadata": {},
   "outputs": [
    {
     "name": "stdout",
     "output_type": "stream",
     "text": [
      "                                                    Percentage Of Drivers Involved In Fatal Collisions Who Were Speeding\n",
      "Percentage Of Drivers Involved In Fatal Collisi...                                                                      \n",
      "13                                                                                               13.0                   \n",
      "15                                                                                               15.0                   \n",
      "16                                                                                               16.0                   \n",
      "17                                                                                               17.0                   \n",
      "18                                                                                               18.0                   \n",
      "19                                                                                               19.0                   \n",
      "21                                                                                               21.0                   \n",
      "23                                                                                               23.0                   \n",
      "24                                                                                               24.0                   \n",
      "25                                                                                               25.0                   \n",
      "27                                                                                               27.0                   \n",
      "28                                                                                               28.0                   \n",
      "30                                                                                               30.0                   \n",
      "31                                                                                               31.0                   \n",
      "32                                                                                               32.0                   \n",
      "33                                                                                               33.0                   \n",
      "34                                                                                               34.0                   \n",
      "35                                                                                               35.0                   \n",
      "36                                                                                               36.0                   \n",
      "37                                                                                               37.0                   \n",
      "38                                                                                               38.0                   \n",
      "39                                                                                               39.0                   \n",
      "40                                                                                               40.0                   \n",
      "41                                                                                               41.0                   \n",
      "42                                                                                               42.0                   \n",
      "43                                                                                               43.0                   \n",
      "46                                                                                               46.0                   \n",
      "50                                                                                               50.0                   \n",
      "54                                                                                               54.0                   \n"
     ]
    }
   ],
   "source": [
    "speeding_median = df.groupby('Percentage Of Drivers Involved In Fatal Collisions Who Were Speeding')[['Percentage Of Drivers Involved In Fatal Collisions Who Were Speeding']].median()\n",
    "print(speeding_median)"
   ]
  },
  {
   "cell_type": "code",
   "execution_count": 14,
   "id": "f8f783bb",
   "metadata": {},
   "outputs": [
    {
     "data": {
      "text/plain": [
       "32"
      ]
     },
     "execution_count": 14,
     "metadata": {},
     "output_type": "execute_result"
    }
   ],
   "source": [
    "statistics.median([13, 15, 16, 17, 18, 19, 21, 23, 24, 25, 27, 28, 30, 31, 32, 33, 34, 35, 36, 37, 38, 39, 40, 41, 42, 43, 46, 50, 54])"
   ]
  },
  {
   "cell_type": "code",
   "execution_count": null,
   "id": "46a2d1f4",
   "metadata": {},
   "outputs": [],
   "source": []
  }
 ],
 "metadata": {
  "kernelspec": {
   "display_name": "Python 3 (ipykernel)",
   "language": "python",
   "name": "python3"
  },
  "language_info": {
   "codemirror_mode": {
    "name": "ipython",
    "version": 3
   },
   "file_extension": ".py",
   "mimetype": "text/x-python",
   "name": "python",
   "nbconvert_exporter": "python",
   "pygments_lexer": "ipython3",
   "version": "3.9.12"
  }
 },
 "nbformat": 4,
 "nbformat_minor": 5
}
